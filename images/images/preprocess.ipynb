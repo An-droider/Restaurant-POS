{
 "cells": [
  {
   "cell_type": "code",
   "execution_count": 1,
   "metadata": {},
   "outputs": [],
   "source": [
    "from PIL import Image\n",
    "import numpy as np\n",
    "import pandas as pd\n",
    "import matplotlib.pyplot as plt\n",
    "from torchvision import transforms\n",
    "import os\n",
    "from PIL import ImageFile\n",
    "ImageFile.LOAD_TRUNCATED_IMAGES = True\n",
    "\n",
    "# from tensorflow.keras.applications import ResNet50\n",
    "a = \"sample_\"\n",
    "\n",
    "DATASET_FOLDER = '../dataset/'\n",
    "sample = pd.read_csv(os.path.join(DATASET_FOLDER, 'sample_test.csv'))\n",
    "\n",
    "l = [i[i.find(\"/I/\")+3:i.find(\".jpg\")+4] for i in sample[\"image_link\"]]\n",
    "# l"
   ]
  },
  {
   "cell_type": "code",
   "execution_count": 3,
   "metadata": {},
   "outputs": [
    {
     "data": {
      "text/plain": [
       "88"
      ]
     },
     "execution_count": 3,
     "metadata": {},
     "output_type": "execute_result"
    }
   ],
   "source": [
    "len(l)"
   ]
  },
  {
   "cell_type": "code",
   "execution_count": 5,
   "metadata": {},
   "outputs": [],
   "source": [
    "# outlis=set(os.listdir(f\"../{a}tensors/\"))\n",
    "logger = open(f\"./{a}miss.txt\",'a')\n",
    "logger.write(\"\\n\")\n",
    "s=1024\n",
    "preprocess = transforms.Compose([\n",
    "    transforms.Resize((s, s)),   # Resizing\n",
    "    # transforms.RandomHorizontalFlip(), # Data Augmentation\n",
    "    transforms.ToTensor(),            # Convert to Tensor\n",
    "    transforms.Normalize(mean=[0.485, 0.456, 0.406], std=[0.229, 0.224, 0.225]) # Normalization\n",
    "])\n",
    "p2 = transforms.Compose([\n",
    "    transforms.Resize((s, s)),   # Resizing\n",
    "    # transforms.RandomHorizontalFlip(), # Data Augmentation\n",
    "    transforms.ToTensor(),            # Convert to Tensor\n",
    "])\n",
    "for i in range(len(l)):\n",
    "    if(not i%1000):\n",
    "        # print(i)\n",
    "        logger.write(str(i))\n",
    "        logger.write(\"\\n\")\n",
    "        logger.flush()\n",
    "    # if f\"{l[i]}\" in outlis:\n",
    "    #     continue\n",
    "    try :\n",
    "        image = Image.open(f'./{l[i]}')\n",
    "        try :\n",
    "            image_tensor = preprocess(image)\n",
    "        except:\n",
    "            image_tensor = p2(image)\n",
    "    except :\n",
    "        logger.write(l[i])\n",
    "        logger.write(\"\\n\")\n",
    "        logger.flush()\n",
    "    # im = transforms.ToPILImage()(image_tensor)\n",
    "    # im.save(f\"../{a}tensors/{l[i]}\")\n",
    "    plt.imsave(f\"./{a}tensors/{l[i]}\",image_tensor.numpy()[0],cmap=\"gray\")\n",
    "    # plt.imshow(image_tensor.numpy())\n",
    "    # if i>6:\n",
    "    #     break\n",
    "logger.close()"
   ]
  },
  {
   "cell_type": "code",
   "execution_count": null,
   "metadata": {},
   "outputs": [],
   "source": [
    "# logger = open(f\"../src/{a}miss.txt\",'a')\n",
    "# logger.write(\"\\n\")\n",
    "# with open(\"./{a}missed.txt\",'r+')as m:\n",
    "#     arr = m.read().split('\\n')\n",
    "# for i in range(len(arr)):\n",
    "    \n",
    "#     try :\n",
    "#         image = Image.open(f'../{a}/{arr[i]}')\n",
    "#         preprocess = transforms.Compose([\n",
    "#             transforms.Resize((s, s)),   # Resizing\n",
    "#             # transforms.RandomHorizontalFlip(), # Data Augmentation\n",
    "#             transforms.ToTensor(),            # Convert to Tensor\n",
    "#             # transforms.Normalize(mean=[0.485, 0.456, 0.406], std=[0.229, 0.224, 0.225]) # Normalization\n",
    "#         ])\n",
    "#         image_tensor = preprocess(image)\n",
    "#         plt.imsave(f\"../{a}tensors/{l[i]}\",image_tensor.numpy()[0],cmap=\"gray\")\n",
    "#         # print(i)\n",
    "#     except :\n",
    "#         logger.write(l[i])\n",
    "#         logger.write(\"\\n\")\n",
    "#         logger.flush()\n",
    "#         break\n",
    "# logger.close() \n",
    "        "
   ]
  }
 ],
 "metadata": {
  "kernelspec": {
   "display_name": "Python 3",
   "language": "python",
   "name": "python3"
  },
  "language_info": {
   "codemirror_mode": {
    "name": "ipython",
    "version": 3
   },
   "file_extension": ".py",
   "mimetype": "text/x-python",
   "name": "python",
   "nbconvert_exporter": "python",
   "pygments_lexer": "ipython3",
   "version": "3.12.4"
  }
 },
 "nbformat": 4,
 "nbformat_minor": 2
}
